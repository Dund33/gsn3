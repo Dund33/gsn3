{
 "nbformat": 4,
 "nbformat_minor": 0,
 "metadata": {
  "colab": {
   "name": "lab03_poprawione.ipynb",
   "provenance": [],
   "collapsed_sections": []
  },
  "kernelspec": {
   "name": "python3",
   "display_name": "Python 3 (ipykernel)",
   "language": "python"
  },
  "accelerator": "GPU"
 },
 "cells": [
  {
   "cell_type": "markdown",
   "metadata": {
    "id": "l1koAEgYAJr-"
   },
   "source": [
    "# Wstęp\n",
    "\n",
    "Na poprzednich zajęciach nauczyłeś(aś) się jak skonstruować od zera podstawową komórkę sieci neuronowej - Perceptron. Na tych zajęciach przejdziemy już do wykorzystywania bardziej zaawansowanych funkcji PyTorcha, które przydają się na codzień do konstruowania sieci neuronowych.\n",
    "\n",
    "## Cel ćwiczenia\n",
    "\n",
    "Celem ćwiczenia jest zapoznanie z podstawowymi funkcjami biblioteki PyTorch do tworzenia i uczenia sieci neuronowych a w szczególności z:\n",
    "*   Automatycznym liczeniem gradientów i grafem obliczeniowym (autograd)\n",
    "*   Algorytmami off-line, on-line a także pojęciem mini-batch\n",
    "*   Algorytmami optymalizacji sieci neuronowych\n",
    "*   Liczeniem wartości fuknkcji straty\n",
    "*   Przekształceniami nieliniowymi\n",
    "*   Modułem `torch.nn`\n",
    "\n",
    "## Warunki zaliczenia\n",
    "\n",
    "W celu zaliczenia ćwiczeń należy uzupełnić wszystkie brakujące elementu kodu, wykonać wszystkie polecenia i wyuczyć model.\n"
   ]
  },
  {
   "cell_type": "code",
   "metadata": {
    "id": "kUJ1zQQXs7ip",
    "ExecuteTime": {
     "end_time": "2025-03-27T10:32:31.652073Z",
     "start_time": "2025-03-27T10:32:31.647670Z"
    }
   },
   "source": [
    "import math\n",
    "import warnings\n",
    "from typing import Tuple\n",
    "\n",
    "import torch\n",
    "import torch.nn.functional as F\n",
    "from sklearn.model_selection import train_test_split\n",
    "from sklearn.datasets import load_iris\n",
    "from torch import nn\n",
    "from torch import optim\n",
    "from torch.utils.data import TensorDataset, DataLoader, random_split\n",
    "import matplotlib.pyplot as plt\n",
    "import itertools as it\n",
    "import numpy as np\n",
    "#assert torch.cuda.is_available(), \"Uruchom środowisko wykonawcze na GPU\""
   ],
   "outputs": [],
   "execution_count": 14
  },
  {
   "cell_type": "markdown",
   "metadata": {
    "id": "er1hgYZsm5-6"
   },
   "source": [
    "# Autograd - automatyczne liczenie gradientów\n",
    "\n",
    "Na poprzednich laboratoriach implementowałeś(aś) funkcję wstecznej propagacji. W tym celu liczyłaś(eś) pochodne (gradienty). Przyjrzyjmy się najpierw funkcji\n",
    "$$f(x, y) = 3x^2 + y^3$$\n",
    "Możemy tę funkcję różniczkować po dwóch zmiennych: $x$ i $y$:\n",
    "$$\\frac{\\partial f}{\\partial x} = 6x$$\n",
    "\n",
    "$$\\frac{\\partial f}{\\partial y} = 3y^2$$\n",
    "\n",
    "Jeżeli funkcję $f(x,y)$ złożymy z funkcją $g(x) = x^2$ tworząc funkcję $h(x, y) = f(g(x), y)$ to z **reguły łańcuchowej** pochodna takiej funkcji wyniesie:\n",
    "\n",
    "$$\\frac{\\partial h}{\\partial x} = \\frac{\\partial f}{\\partial g} \\frac{\\partial g}{\\partial x} = (6 (x^2)) (2 x) = 12 x^3$$\n",
    "\n",
    "Tego typu obliczenia przy wielu warstwach sieci (a więc przy wielu złożeniach funkcji liniowych i nieliniowych) stają się mocno skomplikowane. Na szczęście PyToch dostarcza `torch.autograd` - silnik do zaumatyzowanego liczenia gradientów. Jak on działa? Najpierw zdefiniujmy wektory $\\mathbf x$ i $\\mathbf y$."
   ]
  },
  {
   "cell_type": "code",
   "metadata": {
    "id": "SRkbe7sPm5dL",
    "ExecuteTime": {
     "end_time": "2025-03-27T07:50:03.863808Z",
     "start_time": "2025-03-27T07:50:03.858650Z"
    }
   },
   "source": [
    "x = torch.tensor([0., 1., 5.], requires_grad=True)\n",
    "y = torch.tensor([8., 2., 4.], requires_grad=True)"
   ],
   "outputs": [],
   "execution_count": 2
  },
  {
   "cell_type": "markdown",
   "metadata": {
    "id": "Z6L2Lx63vTOn"
   },
   "source": [
    "Zauważ, że tworząc tensor przekazaliśmy parametr `requires_grad=True`. Sprawia on, że wszystkie operacje dokonane na tym tensorze są śledzone i tensor wynikowy będzie \"pamiętał\" przy użyciu jakiej operacji powstał. Policzmy naszą funkcję $f( \\mathbf x, \\mathbf y)$ dla tych tensorów."
   ]
  },
  {
   "cell_type": "code",
   "metadata": {
    "id": "_FE9yAWMvR4Q",
    "ExecuteTime": {
     "end_time": "2025-03-27T07:50:07.409021Z",
     "start_time": "2025-03-27T07:50:07.402766Z"
    }
   },
   "source": [
    "z = 3 * x ** 2 + y ** 3\n",
    "z"
   ],
   "outputs": [
    {
     "data": {
      "text/plain": [
       "tensor([512.,  11., 139.], grad_fn=<AddBackward0>)"
      ]
     },
     "execution_count": 3,
     "metadata": {},
     "output_type": "execute_result"
    }
   ],
   "execution_count": 3
  },
  {
   "cell_type": "markdown",
   "metadata": {
    "id": "C4aNNpt8xqpk"
   },
   "source": [
    "Jak widać uzyskany tensor ma także zapisany parametr `grad_fn=<AddBackward0>`, czyli że powstał z dodania dwóch tensorów - dodawanie jest ostatnią operacją, która zostałą wykonana, żeby otrzymać ten tensor. Dokonajmy propagacji wstecznej w celu policzenia gradientów.\n"
   ]
  },
  {
   "cell_type": "code",
   "metadata": {
    "id": "b1_vOt2yxqHb",
    "ExecuteTime": {
     "end_time": "2025-03-27T07:50:10.512698Z",
     "start_time": "2025-03-27T07:50:10.032379Z"
    }
   },
   "source": [
    "grad_tensors = torch.tensor([1., 1., 1.])\n",
    "z.backward(grad_tensors)\n",
    "print(x.grad == 6 * x)\n",
    "print(y.grad == 3 * y ** 2)"
   ],
   "outputs": [
    {
     "name": "stdout",
     "output_type": "stream",
     "text": [
      "tensor([True, True, True])\n",
      "tensor([True, True, True])\n"
     ]
    }
   ],
   "execution_count": 4
  },
  {
   "cell_type": "markdown",
   "metadata": {
    "id": "kqqmScaJQoZ3"
   },
   "source": [
    "Na razie nie przejmuj się tym za co odpowiada `grad_tensors`. Policzmy wartość funkcji $h$.\n",
    "\n"
   ]
  },
  {
   "cell_type": "code",
   "metadata": {
    "id": "8OtdWj0Y7XGa",
    "ExecuteTime": {
     "end_time": "2025-03-27T07:50:55.878181Z",
     "start_time": "2025-03-27T07:50:55.871612Z"
    }
   },
   "source": [
    "a = 3 * (x ** 2) ** 2 + y ** 3\n",
    "a.backward(grad_tensors)\n",
    "print(x.grad)\n",
    "print(12 * (x ** 3))\n",
    "print(x.grad == 12 * (x ** 3))"
   ],
   "outputs": [
    {
     "name": "stdout",
     "output_type": "stream",
     "text": [
      "tensor([   0.,   30., 3030.])\n",
      "tensor([   0.,   12., 1500.], grad_fn=<MulBackward0>)\n",
      "tensor([ True, False, False])\n"
     ]
    }
   ],
   "execution_count": 6
  },
  {
   "cell_type": "markdown",
   "metadata": {
    "id": "tgIDyhN4RanY"
   },
   "source": [
    "Nie zgadzają nam się wartości. Wynika to z kolejnej właśności pytorchowego autograda - gradienty w tensorach są **akumulowane**. Jak wykonasz powyższą komórkę wielekrotnie to zobaczysz że wartości `x.grad` rosną dokładnie o $12x_i^3$ po każdym wykonaniu. Akumulacja gradientów jest przydatna w niektórych architekturach sieci neuronowych. Dlatego też trzeba *explicite* wyzerować gradienty."
   ]
  },
  {
   "cell_type": "code",
   "metadata": {
    "id": "83kl2IWHO491",
    "ExecuteTime": {
     "end_time": "2025-03-27T07:50:58.912215Z",
     "start_time": "2025-03-27T07:50:58.903523Z"
    }
   },
   "source": [
    "x.grad.data.zero_()\n",
    "a = 3 * (x ** 2) ** 2 + y ** 3\n",
    "a.backward(grad_tensors)\n",
    "print(x.grad)\n",
    "print(12 * (x ** 3))\n",
    "assert (x.grad == 12 * (x ** 3)).all()"
   ],
   "outputs": [
    {
     "name": "stdout",
     "output_type": "stream",
     "text": [
      "tensor([   0.,   12., 1500.])\n",
      "tensor([   0.,   12., 1500.], grad_fn=<MulBackward0>)\n"
     ]
    }
   ],
   "execution_count": 7
  },
  {
   "cell_type": "markdown",
   "metadata": {
    "id": "nZ4DG0kmaTzl"
   },
   "source": [
    "Ok, powróćmy teraz do `grad_tensors` - co to jest? Otóż autograd jest silnikiem, który służy do wyliczania **macierzy Jacobiego**, tj. pochodnych pierwszego rzędu funkcji, których składowymi są funkcje rzeczywiste.\n",
    "\n",
    "$$f = (f_1, f_2, \\ldots, f_m)$$\n",
    "$$\\mathbf x = (x_1, x_2, \\ldots, x_n)$$\n",
    "\n",
    "$$\\mathbf J = \\begin{bmatrix}\n",
    " \\dfrac{\\partial f_1}{\\partial x_1} & \\cdots & \\dfrac{\\partial f_1}{\\partial x_n} \\\\\n",
    " \\vdots & \\ddots & \\vdots \\\\\n",
    " \\dfrac{\\partial f_m}{\\partial x_1} & \\cdots & \\dfrac{\\partial f_m}{\\partial x_n}\n",
    "\\end{bmatrix}$$\n",
    "\n",
    "Konkretnie patrząc na przykład z tensorem $a$ macierz Jacobiego wygląda tak:\n",
    "$$\\mathbf J_a = \\begin{bmatrix}\n",
    " \\dfrac{\\partial a_1}{\\partial x_1} & \\dfrac{\\partial a_1}{\\partial x_2} & \\dfrac{\\partial a_1}{\\partial x_3} \\\\\n",
    "  \\dfrac{\\partial a_2}{\\partial x_1} & \\dfrac{\\partial a_2}{\\partial x_2} & \\dfrac{\\partial a_2}{\\partial x_3} \\\\\n",
    "   \\dfrac{\\partial a_3}{\\partial x_1} & \\dfrac{\\partial a_3}{\\partial x_2} & \\dfrac{\\partial a_3}{\\partial x_3} \\\\\n",
    "\\end{bmatrix}$$\n",
    "\n",
    "Następnie `grad_tensors` ($\\mathbf z$) mnożymy przez transpozycję tej macierzy (ang. *Jacobian-vector product*).\n",
    "\n",
    "$$ \\mathbf z \\mathbf J_a^T = \\begin{bmatrix} 1 & 1 & 1 \\end{bmatrix}\n",
    "\\begin{bmatrix}\n",
    " \\dfrac{\\partial a_1}{\\partial x_1} & \\dfrac{\\partial a_2}{\\partial x_1} & \\dfrac{\\partial a_3}{\\partial x_1} \\\\\n",
    "  \\dfrac{\\partial a_1}{\\partial x_2} & \\dfrac{\\partial a_2}{\\partial x_2} & \\dfrac{\\partial a_3}{\\partial x_2} \\\\\n",
    "   \\dfrac{\\partial a_1}{\\partial x_3} & \\dfrac{\\partial a_2}{\\partial x_3} & \\dfrac{\\partial a_3}{\\partial x_3} \\\\\n",
    "\\end{bmatrix}\n",
    "= \\begin{bmatrix} 1\\dfrac{\\partial a_1}{\\partial x_1} + 1\\dfrac{\\partial a_1}{\\partial x_2} + 1\\dfrac{\\partial a_1}{\\partial x_3} & 1\\dfrac{\\partial a_2}{\\partial x_1} + 1\\dfrac{\\partial a_2}{\\partial x_2} + 1\\dfrac{\\partial a_2}{\\partial x_3} & 1\\dfrac{\\partial a_3}{\\partial x_1} + 1\\dfrac{\\partial a_3}{\\partial x_2} + 1\\dfrac{\\partial a_3}{\\partial x_3} \\end{bmatrix}\n",
    "= \\begin{bmatrix} 12(0)^3 + 0 + 0 & 0 + 12(1)^3 + 0 & 0 + 0 + 12(5)^3 \\end{bmatrix} =  \\begin{bmatrix} 0 & 12 & 1500 \\end{bmatrix}$$\n",
    "\n",
    "Uzyskujemy te same gradienty co policzyliśmy dla wektora $\\mathbf x$. Zamiast przekazywać wektor jedynek do `backward()`, można najpierw policzyć sumę wektora $\\mathbf a$ a potem wykonać propagację wsteczną."
   ]
  },
  {
   "cell_type": "code",
   "metadata": {
    "id": "PVcNdrQKo0d0"
   },
   "source": [
    "x.grad.data.zero_()\n",
    "a = 3 * (x ** 2) ** 2 + y ** 3\n",
    "a.sum().backward()\n",
    "print(x.grad)\n",
    "print(12 * (x ** 3))\n",
    "assert (x.grad == 12 * (x ** 3)).all()"
   ],
   "execution_count": null,
   "outputs": []
  },
  {
   "cell_type": "markdown",
   "metadata": {
    "id": "ZpK5aW-CrKxP"
   },
   "source": [
    "Wtedy pamiętając o tym, że pochodna sumy to suma pochodnych ($(f(x) + g(x))' = f'(x) + g'(x)$):\n",
    "\n",
    "$$\\begin{bmatrix}\n",
    " \\dfrac{\\partial a}{\\partial x_1} & \\dfrac{\\partial a}{\\partial x_2} & \\dfrac{\\partial a}{\\partial x_3}\n",
    "\\end{bmatrix} = \\begin{bmatrix} \\dfrac{\\partial (a_1 + a_2 + a_3)}{\\partial x_1} & \\dfrac{\\partial (a_1 + a_2 + a_3)}{\\partial x_2} & \\dfrac{\\partial (a_1 + a_2 + a_3)}{\\partial x_3} \\end{bmatrix} = \\begin{bmatrix} \\dfrac{\\partial a_1}{\\partial x_1} + \\dfrac{\\partial a_2}{\\partial x_1} + \\dfrac{\\partial a_3}{\\partial x_1} & \\dfrac{\\partial a_1}{\\partial x_2} + \\dfrac{\\partial a_2}{\\partial x_2} + \\dfrac{\\partial a_3}{\\partial x_2} & \\dfrac{\\partial a_1}{\\partial x_3} + \\dfrac{\\partial a_2}{\\partial x_3} + \\dfrac{\\partial a_3}{\\partial x_3} \\end{bmatrix} = \\begin{bmatrix} \\dfrac{\\partial a_1}{\\partial x_1} & \\dfrac{\\partial a_2}{\\partial x_2} & \\dfrac{\\partial a_3}{\\partial x_3} \\end{bmatrix} =  \\begin{bmatrix} 0 & 12 & 1500 \\end{bmatrix} $$\n",
    "\n",
    "Zatem po co w ogóle ten wektor? Otóż służy on do przekazywania wektora gradientu funkcji straty ($\\dfrac{\\partial \\mathbf{loss}}{\\partial \\mathbf y}$) lub \"warstwy\" wcześniejszej w obliczenich ($\\dfrac{\\partial \\mathbf{f}}{\\partial \\mathbf y}$). Przeanalizumy to na przykładzie z funkcjami $f$, $g$, i $h$, które zaprezentowaliśmy wcześniej omawiając regułę łańcuchową."
   ]
  },
  {
   "cell_type": "code",
   "metadata": {
    "id": "_KuSF2aTvmH_",
    "ExecuteTime": {
     "end_time": "2025-03-27T07:52:36.082131Z",
     "start_time": "2025-03-27T07:52:36.070896Z"
    }
   },
   "source": [
    "x = torch.tensor([0., 1., 5.], requires_grad=True)\n",
    "y = torch.tensor([8., 2., 4.], requires_grad=True)\n",
    "\n",
    "g = x ** 2\n",
    "h = 3 * g ** 2 + y ** 3\n",
    "g.retain_grad()\n",
    "h.retain_grad()\n",
    "\n",
    "h.sum().backward()\n",
    "h_grad = h.grad\n",
    "g_grad = g.grad\n",
    "h.grad, g.grad, x.grad, y.grad"
   ],
   "outputs": [
    {
     "data": {
      "text/plain": [
       "(tensor([1., 1., 1.]),\n",
       " tensor([  0.,   6., 150.]),\n",
       " tensor([   0.,   12., 1500.]),\n",
       " tensor([192.,  12.,  48.]))"
      ]
     },
     "execution_count": 8,
     "metadata": {},
     "output_type": "execute_result"
    }
   ],
   "execution_count": 8
  },
  {
   "cell_type": "markdown",
   "metadata": {
    "id": "EuU2aUaHjEyW"
   },
   "source": [
    "Wykorzystaliśmy `retain_grad()`, żeby zapamiętać gradienty w tensorach pośrednich - domyślnie PyTorch nie zapamiętuje tych gradientów, aby [oszczędzić pamięć](https://discuss.pytorch.org/t/why-cant-i-see-grad-of-an-intermediate-variable/94/2). Zauważ, że:\n",
    "\n",
    "\n",
    "*   `h.grad` zawiera wektor jedynek;\n",
    "*   `g.grad` zawiera wartości pochodnej funkcji $f$ ($\\frac{\\partial f}{\\partial x} = 6$);\n",
    "*   `x.grad` zawiera wartości pochodnej funkcji $h$ ($\\frac{\\partial h}{\\partial x} = 12x^3$)\n",
    "*   `y.grad` zawiera wartości pochodnej funkcji $h$ ($\\frac{\\partial h}{\\partial y} = \\frac{\\partial f}{\\partial y} = 3y^2$).\n",
    "\n",
    "To teraz somodzielnie oddtworzymy działanie funkcji `backward()` wykrozystując gradienty pośrednie z wektorów $\\mathbf g$ i $\\mathbf h$."
   ]
  },
  {
   "cell_type": "code",
   "metadata": {
    "id": "DIW_nA3cwbTA",
    "ExecuteTime": {
     "end_time": "2025-03-27T07:54:11.840231Z",
     "start_time": "2025-03-27T07:54:11.829801Z"
    }
   },
   "source": [
    "x = torch.tensor([0., 1., 5.], requires_grad=True)\n",
    "y = torch.tensor([8., 2., 4.], requires_grad=True)\n",
    "\n",
    "g = x ** 2\n",
    "h = 3 * g ** 2 + y ** 3\n",
    "g.retain_grad()\n",
    "h.retain_grad()\n",
    "\n",
    "h.backward(h_grad)\n",
    "# h.sum().backward()\n",
    "h.grad, g.grad, x.grad, y.grad"
   ],
   "outputs": [
    {
     "data": {
      "text/plain": [
       "(tensor([1., 1., 1.]),\n",
       " tensor([  0.,   6., 150.]),\n",
       " tensor([   0.,   12., 1500.]),\n",
       " tensor([192.,  12.,  48.]))"
      ]
     },
     "execution_count": 9,
     "metadata": {},
     "output_type": "execute_result"
    }
   ],
   "execution_count": 9
  },
  {
   "cell_type": "code",
   "metadata": {
    "id": "Ox25QC4jxJlo",
    "ExecuteTime": {
     "end_time": "2025-03-27T07:54:32.251734Z",
     "start_time": "2025-03-27T07:54:32.241607Z"
    }
   },
   "source": [
    "x = torch.tensor([0., 1., 5.], requires_grad=True)\n",
    "y = torch.tensor([8., 2., 4.], requires_grad=True)\n",
    "\n",
    "g = x ** 2\n",
    "h = 3 * g ** 2 + y ** 3\n",
    "g.retain_grad()\n",
    "h.retain_grad()\n",
    "\n",
    "g.backward(g_grad)\n",
    "# h.backward(h_grad)\n",
    "# h.sum().backward()\n",
    "h.grad, g.grad, x.grad, y.grad"
   ],
   "outputs": [
    {
     "data": {
      "text/plain": [
       "(None, tensor([  0.,   6., 150.]), tensor([   0.,   12., 1500.]), None)"
      ]
     },
     "execution_count": 11,
     "metadata": {},
     "output_type": "execute_result"
    }
   ],
   "execution_count": 11
  },
  {
   "cell_type": "markdown",
   "metadata": {
    "id": "HSQC61IgmbKA"
   },
   "source": [
    "Jak widać uzyskaliśmy te same gradienty wektora $\\mathbf x$ przechodząc po grafie obliczeń \"ręcznie\" oraz przekazując odpowiednie gradienty w parametrze `grad_tensors`. No właśnie, wspomnieliśmy \"graf obliczeń\" - o co chodzi?"
   ]
  },
  {
   "cell_type": "markdown",
   "metadata": {
    "id": "2nRcH7fZx-m9"
   },
   "source": [
    "## Graf obliczeniowy\n",
    "\n",
    "To wszystko jest możliwe dzięki temu, że autograd tworzy **acykliczny skierowany graf obilczeniowy**. Gdzie go przechowuje? Spójrzmy jeszcze raz na nasz wektor $\\mathbf a$."
   ]
  },
  {
   "cell_type": "code",
   "metadata": {
    "id": "req-qWXFx-Po"
   },
   "source": [
    "print(a)\n",
    "print(a.grad_fn.next_functions)"
   ],
   "execution_count": null,
   "outputs": []
  },
  {
   "cell_type": "markdown",
   "metadata": {
    "id": "vWUeVJI4tC0y"
   },
   "source": [
    "Obiekt a ma pole `grad_fn` a ono ma pole `next_functions`. Widzimy, że $\\mathbf a$ powstało z przemnożenia dwóch tensorów, gdzie pierwszy tensor był wynikiem mnożenia a drugi - potęgowania. A więc na razie wiemy, że `a = (_*_) + (_**_)`. I kolejno przechodząc po tym grafie możemy dalej odkrywać jego strukturę i jaka droga skonstruowania $\\mathbf a$ się za nim kryje."
   ]
  },
  {
   "cell_type": "code",
   "metadata": {
    "id": "iG7ewXOpuBg9",
    "ExecuteTime": {
     "end_time": "2025-03-27T07:55:32.404794Z",
     "start_time": "2025-03-27T07:55:32.399427Z"
    }
   },
   "source": [
    "print(a.grad_fn.next_functions[0][0].next_functions)  # a = ((_**_))*_) + (_**_)\n",
    "print(a.grad_fn.next_functions[0][0].next_functions[0][0].next_functions)  # a = (((_**_))**_))*_) + (_**_)\n",
    "print(a.grad_fn.next_functions[0][0].next_functions[0][0].next_functions[0][\n",
    "          0].next_functions)  # a = (((x**_))**_))*_) + (_**_)\n",
    "print()\n",
    "print(a.grad_fn.next_functions[1][0].next_functions)  # a = (((x**_))**_))*_) + (y**_)"
   ],
   "outputs": [
    {
     "name": "stdout",
     "output_type": "stream",
     "text": [
      "((<PowBackward0 object at 0x7f1f277e4790>, 0), (None, 0))\n",
      "((<PowBackward0 object at 0x7f1f266ad960>, 0),)\n",
      "((<AccumulateGrad object at 0x7f1f277e4790>, 0),)\n",
      "\n",
      "((<AccumulateGrad object at 0x7f1f277e4790>, 0),)\n"
     ]
    }
   ],
   "execution_count": 12
  },
  {
   "cell_type": "markdown",
   "metadata": {
    "id": "O9AcjeSWwe2C"
   },
   "source": [
    "Po chwilii analizy można dostrzec że ta strutura odpowiada obliczeniu tensora $a$ ze wzoru $3(\\mathbf x^2)^2 + \\mathbf y^3$.\n",
    "\n",
    "Jeszcze warto wspomnieć o tym, że PyTorch śledzi to dla których tensorów trzeba tworzyć ten graf a dla których nie. Dlatego też jeżeli w operacjach użyjemy tensora, który \"wymaga gradientu\" (`requires_grad=True`) to uzyskamy tensor \"wymagający gradientu\":"
   ]
  },
  {
   "cell_type": "code",
   "metadata": {
    "id": "OsVXVIt0xgmH"
   },
   "source": [
    "x = torch.tensor([1., 2., 3.])\n",
    "y = torch.tensor([6., 7., 8.])\n",
    "z = torch.tensor([9., 7., 8.], requires_grad=True)\n",
    "print((2 * x + 3 ** y).requires_grad)\n",
    "print((2 * x + 3 ** y + z).requires_grad)"
   ],
   "execution_count": null,
   "outputs": []
  },
  {
   "cell_type": "markdown",
   "metadata": {
    "id": "5uhx0KMYue7l"
   },
   "source": [
    "Dla chcących dowiedzieć się czegoś więcej o mechanizmach autograda polecamy: [1](https://www.cs.toronto.edu/~rgrosse/courses/csc321_2018/slides/lec10.pdf), [2](https://github.com/mattjj/autodidact/)."
   ]
  },
  {
   "cell_type": "markdown",
   "metadata": {
    "id": "F31LTMdi2ZTe"
   },
   "source": [
    "# Refatoring kodu z laboratorium 2\n",
    "\n",
    "W tej części laboratorium dokonasz refaktoringu kodu z laboratorium drugiego z wykorzystaniem gotowych rozwiązań w bibliotece `torch` a w szczególności w `torch.nn`. Najpierw zacznijmy od załadowania zbioru danych i podzielenia go na zbiór uczący i testowy."
   ]
  },
  {
   "cell_type": "code",
   "metadata": {
    "id": "U9wlFq0z2y-R",
    "ExecuteTime": {
     "end_time": "2025-03-27T10:18:55.601765Z",
     "start_time": "2025-03-27T10:18:55.550404Z"
    }
   },
   "source": [
    "X, y = load_iris(return_X_y=True)\n",
    "\n",
    "X_train, X_test, y_train, y_test = train_test_split(X, y, test_size=0.4, random_state=1, stratify=y)\n",
    "\n",
    "X_train = torch.tensor(X_train).float()\n",
    "X_test = torch.tensor(X_test).float()\n",
    "y_train = torch.tensor(y_train)\n",
    "y_test = torch.tensor(y_test)\n",
    "\n",
    "y_test"
   ],
   "outputs": [
    {
     "data": {
      "text/plain": [
       "tensor([0, 2, 0, 1, 2, 1, 1, 2, 2, 0, 2, 0, 2, 2, 1, 1, 2, 1, 2, 1, 0, 0, 2, 0,\n",
       "        1, 1, 2, 0, 2, 0, 0, 1, 1, 2, 2, 0, 0, 0, 0, 2, 1, 2, 0, 0, 2, 2, 1, 0,\n",
       "        0, 1, 2, 1, 1, 1, 2, 1, 0, 0, 1, 1])"
      ]
     },
     "execution_count": 3,
     "metadata": {},
     "output_type": "execute_result"
    }
   ],
   "execution_count": 3
  },
  {
   "metadata": {
    "ExecuteTime": {
     "end_time": "2025-03-27T08:13:06.595883Z",
     "start_time": "2025-03-27T08:13:06.592253Z"
    }
   },
   "cell_type": "code",
   "source": "X_train.shape",
   "outputs": [
    {
     "data": {
      "text/plain": [
       "torch.Size([90, 4])"
      ]
     },
     "execution_count": 3,
     "metadata": {},
     "output_type": "execute_result"
    }
   ],
   "execution_count": 3
  },
  {
   "cell_type": "markdown",
   "metadata": {
    "id": "I7l1l8oi5xIM"
   },
   "source": [
    "## `nn.Module` oraz `CrossEntropyLoss`\n",
    "\n",
    "Na poprzednich laboratoriach w tym miejscu implementowaliśmy funkcję sigmoid, inicjalizację parametrów oraz propagację w przód i wsteczną. Tym razem nie będzie trzeba tego robić, jednakże zdefiniujesz architekturę sieci przy użyciu modułu `torch.nn`.\n",
    "\n",
    "***Zaimplementuj*** klasę Perceptron - klasę dziedziczącą po `nn.Module` z jedną warstwą transformacji liniowej (Perceptrona, [`torch.nn.Linear`](https://pytorch.org/docs/stable/generated/torch.nn.Linear.html)). Na razie ***pomiń*** transformację nieliniową (np. sigmoid). \n",
    "\n"
   ]
  },
  {
   "cell_type": "code",
   "metadata": {
    "id": "x3puwuoU_pt_",
    "ExecuteTime": {
     "end_time": "2025-03-27T10:18:58.363913Z",
     "start_time": "2025-03-27T10:18:58.358354Z"
    }
   },
   "source": [
    "class Perceptron(nn.Module):\n",
    "    def __init__(self):\n",
    "        super().__init__()\n",
    "        self.net = torch.nn.Linear(4, 3)\n",
    "\n",
    "    def forward(self, x: torch.Tensor):\n",
    "        return self.net(x)\n"
   ],
   "outputs": [],
   "execution_count": 4
  },
  {
   "cell_type": "markdown",
   "metadata": {
    "id": "rY0OAVWM8DF6"
   },
   "source": [
    "Wspominmy tylko, że można nadal używać `torch.nn` i nie wykorzystywać gotowych warstw sieci tylko samemu implementować operacje na tensorach:\n",
    "\n",
    "```\n",
    "class Perceptron(nn.Module):\n",
    "    def __init__(self, in_dim: int, out_dim: int):\n",
    "        super().__init__()\n",
    "        self.weights = nn.Parameter(\n",
    "          torch.randn(in_dim, out_dim) / math.sqrt(in_dim)\n",
    "        )\n",
    "        self.bias = nn.Parameter(torch.zeros(out_dim))\n",
    "\n",
    "    def forward(self, xb: torch.Tensor):\n",
    "        return xb @ self.weights + self.bias\n",
    "```\n",
    "***Przetestuj*** poprawność swojej implementacji."
   ]
  },
  {
   "cell_type": "code",
   "metadata": {
    "id": "g3OrIHg-82v5",
    "ExecuteTime": {
     "end_time": "2025-03-27T08:13:07.484857Z",
     "start_time": "2025-03-27T08:13:07.478378Z"
    }
   },
   "source": [
    "model = Perceptron()\n",
    "y_pred_0 = model(X_train[0])\n",
    "print(y_pred_0)\n",
    "\n",
    "assert isinstance(y_pred_0, torch.FloatTensor)\n",
    "assert len(y_pred_0) == 3"
   ],
   "outputs": [
    {
     "name": "stdout",
     "output_type": "stream",
     "text": [
      "tensor([-1.6208, -3.3551,  0.5465], grad_fn=<ViewBackward0>)\n"
     ]
    }
   ],
   "execution_count": 5
  },
  {
   "cell_type": "markdown",
   "metadata": {
    "id": "sdodFGsV_EMR"
   },
   "source": [
    "Wykorzystanie `nn.Linear` nie tylko odciążyło nas z implementacji operacji na tensorasch, ale także z inicjalizacji paprametrów modelu - inicjalizacja parametrów jest domyślnie implementowana przez daną wartstwę. Jeżeli uruchomisz powyższy kod wielokrotnie to zauważysz, że za każdym razem otrzymujesz inny tensor wyjściowy. Wynika to z tego, że początkowe parametry modelu są domyślnie **losowane**. Oznacza to, że proces uczenia będzie **niedeterministryczny** - każde uruchomienie da inny wynik parametrów, które model się nauczy.\n",
    "\n",
    "Pozostało jeszcze dodanie nieliniowej transformacji do sieci, ale nie będziemy tego robić. Dodatkowo zamiast tworzyć osobny klasifikator na klasę, zastosujemy jeden klasyfikator. W tym celu zmieniemy funkcję kosztu. Do klasyfikacji wieloklasowej wykorzystamy funkcję **straty krzyżowej entropii**.\n",
    "\n",
    "$\\text{loss} = -\\frac{1}{N}\\sum_{i}^{N}\\log(\\text{softmax}(x_{i}){y_{i}}) $, gdzie $N$ oznacza liczbę przypadków, $x_{i}$ wyjście z ostatniej warstwy $i$-tej instancji, $y_{i}$ klasę $i$-tej instancji.\n",
    "\n",
    "**Softmax** jest przekstałceniem nielinowym powszechnie używanym jako ostatnia warstwa sieci neuronowej służącej do klasyfikacji. Jej mocną stroną jest to, że suma wszystkich elementów tensora będących na jej wyjściu wynosi $1$. Dzięki temu możemy wyjście sieci interpretować jako przypisanie pseudoprawdopodbieństwa dla klasyfikacji dla danej próbki.\n",
    "\n",
    "Dla danego wektora $\\mathbf x = (x_1, x_2, \\ldots, x_i, \\ldots, x_C)$ funkcja Softmax jest zdefiniowana jako:\n",
    "$\\text{Softmax}(x_{i}) = \\frac{\\exp(x_{i})}{\\sum_{j}^{C} \\exp(x_{j})}$, gdzie $C$ oznacza liczbę klas.\n",
    "\n",
    "W tym zadaniu nie będziemy implementować tych funkcji samemu tylko wykorzystamy gotową implementację w bibliotece torch. Implementację znajdziemy w [`torch.nn.CrossEntropyLoss`](https://pytorch.org/docs/stable/generated/torch.nn.CrossEntropyLoss.html). Przyjmuje ona \"surowe\" wartości, dlatego że oblicza również funkcję **LogSoftmax**. Alternatywnie możemy nałożyć funkcję aktywacji LogSoftmax z modułu [`torch.nn.LogSoftmax`](https://pytorch.org/docs/stable/generated/torch.nn.LogSoftmax.html) i obliczyć negatywny logarytm funkcji wiarygodności (ang. *negative log likelihood*) [`torch.nn.NLLLoss`](https://pytorch.org/docs/stable/generated/torch.nn.NLLLoss.html#torch.nn.NLLLoss). `torch.nn.NLLLoss` nie wykonuje operacji logarytmowania tylko oczekuje zlogarytmowanego wejścia.\n",
    "\n",
    "**LogSoftmax** wykorzystany jest tutaj nieprzypadkowo. Funkcja softmax w oryginalnej postaci nie jest odparna na wystąpienie niestabilności numerycznych. W przypadku liczenia entropii krzyżowej możemy wykorzystać skalę logarytmiczną do przeprowadzenia operacji. Dzięki przenesieniu obliczania logarytmu do funkcji Softmax możemy zastąpić dzielenie na różnicę logarytmów. czyli zamiast powyższej definicji funkcja LogSoftmax przyjmuję następującą postać:\n",
    "\n",
    "$\\text{LogSoftmax}(x_{i}) = x_{i} - log \\bigg({\\sum_{j}^{C} \\exp(x_{j})}\\bigg)$\n",
    "\n",
    "Dodatkowo stosowany jest także trik polegający na zastąpieniu operacji $log \\bigg({\\sum_{j}^{C} \\exp(x_{j})}\\bigg)$ operacją **LogSumExp**, zdefiniowaną jako\n",
    "\n",
    "$\\text{LogSumExp}(\\mathbf x) = \\max(\\mathbf x) + log \\bigg({\\sum_{j}^{C} \\exp(x_{j} - \\max(\\mathbf x))}\\bigg)$.\n",
    "\n",
    "Pozwala to pozbyć się dużych wartości $x_{j}$ podczas obliczania $\\exp$.\n",
    "\n"
   ]
  },
  {
   "cell_type": "markdown",
   "metadata": {
    "id": "S5hwoYUOMCE7"
   },
   "source": [
    "## Algorytmy online i offline (`DataLoader`)\n",
    "\n",
    "Na poprzednich zajęciach zaimplementowałaś(eś) **algorytm offline** (alternatywnie batchowy lub deterministyczny, ang. *offline*, *batch*, *deterministic*) tzn. taki, który przetwarza od razu wszystkie dane. Jednakże implementując sieci neuronowe tworzymy często algorytmy **online** (alternatywnie stochastyczne, ang. *online*, *stochastic*), które przetwarzają dane w \"kawałkach\" lub wręcz mogą dostawać je \"na bieżąco\" bez konieczności posiadania wszystkcih danych przed uruchomieniem algorytmu. Są różne powody, dla których tak się robi, ale najczęstrzy jest taki, że przy głębszych architektrurach i bardziej złożonych obiektach (np. obrazach) byłoby fizycznie nie możliwe pomieścić te wszystkie dane w pamięci RAM lub VRAM (RAM na GPU) wraz z parametrami modelu.\n",
    "\n",
    "Liczbę próbek w algorytmach stochastycznych w sieciach neuronowych określa się jako **minibatch size** lub po prostu **batch size**. Przy czym określenie *batch size* nie odnosi się tutaj do algorytmów batchowych (operujących na całym zbiorze danych), tylko do algorytmów online/minibatch. Po prostu *batch size* jest określeniem krótszym (ale mniej poprawnym) niż *minibatch size*, stąd też powszechnie używa się tego pierwszego. Z tego też powodu czasami niektórzy używają określenia *batch* na *minibatch* - warto mieć to na uwadze przy komunikowaniu się z innymi osobami.\n",
    "\n",
    "Do zaimplementowania minibatchy wykorzystamy [`torch.utils.data.DataLoader`](https://pytorch.org/docs/stable/data.html#torch.utils.data.DataLoader). ***Zaimplementuj*** funkcję `to_dataloader`, która `X_train` i `y_train` oraz `X_test` i `y_test` umieści w dwóch osobnych instancjach klasy `DataLoader` z wielkością minibatacha równą `batch_size`"
   ]
  },
  {
   "cell_type": "code",
   "metadata": {
    "id": "ni_A2b6nQHTX",
    "ExecuteTime": {
     "end_time": "2025-03-27T10:19:02.888444Z",
     "start_time": "2025-03-27T10:19:02.878006Z"
    }
   },
   "source": [
    "def to_dataloader(\n",
    "        X_train: torch.Tensor,\n",
    "        y_train: torch.Tensor,\n",
    "        X_test: torch.Tensor,\n",
    "        y_test: torch.Tensor,\n",
    "        batch_size: int = 32\n",
    ") -> Tuple[DataLoader, DataLoader, DataLoader]:\n",
    "    learn_ds = TensorDataset(X_train, y_train)\n",
    "    train_ds, val_ds = random_split(learn_ds, lengths=[0.5, 0.5], generator=torch.Generator().manual_seed(42))\n",
    "    train_dl = DataLoader(train_ds, batch_size=batch_size, shuffle=True)\n",
    "    val_dl = DataLoader(val_ds, batch_size=batch_size, shuffle=True)\n",
    "\n",
    "    test_ds = TensorDataset(X_test, y_test)\n",
    "    test_dl = DataLoader(test_ds, batch_size=batch_size)\n",
    "\n",
    "    return train_dl, val_dl, test_dl"
   ],
   "outputs": [],
   "execution_count": 5
  },
  {
   "cell_type": "markdown",
   "metadata": {
    "id": "LaPQq3iKXPJ-"
   },
   "source": [
    "***Przetestuj*** implementację"
   ]
  },
  {
   "cell_type": "code",
   "metadata": {
    "id": "m6LRNS6sWWA2",
    "ExecuteTime": {
     "end_time": "2025-03-27T10:19:14.793649Z",
     "start_time": "2025-03-27T10:19:14.775735Z"
    }
   },
   "source": [
    "train_loader, eval_loader, test_loader = to_dataloader(\n",
    "    X_train=X_train, y_train=y_train,\n",
    "    X_test=X_test, y_test=y_test,\n",
    "    batch_size=32\n",
    ")\n",
    "\n",
    "for sample in test_loader:\n",
    "    print(sample)"
   ],
   "outputs": [
    {
     "name": "stdout",
     "output_type": "stream",
     "text": [
      "[tensor([[5.1000, 3.8000, 1.9000, 0.4000],\n",
      "        [7.4000, 2.8000, 6.1000, 1.9000],\n",
      "        [4.6000, 3.2000, 1.4000, 0.2000],\n",
      "        [6.4000, 2.9000, 4.3000, 1.3000],\n",
      "        [7.3000, 2.9000, 6.3000, 1.8000],\n",
      "        [7.0000, 3.2000, 4.7000, 1.4000],\n",
      "        [5.1000, 2.5000, 3.0000, 1.1000],\n",
      "        [7.2000, 3.2000, 6.0000, 1.8000],\n",
      "        [6.7000, 2.5000, 5.8000, 1.8000],\n",
      "        [5.0000, 3.4000, 1.5000, 0.2000],\n",
      "        [6.1000, 3.0000, 4.9000, 1.8000],\n",
      "        [5.1000, 3.5000, 1.4000, 0.2000],\n",
      "        [6.9000, 3.2000, 5.7000, 2.3000],\n",
      "        [6.2000, 3.4000, 5.4000, 2.3000],\n",
      "        [6.0000, 3.4000, 4.5000, 1.6000],\n",
      "        [6.1000, 3.0000, 4.6000, 1.4000],\n",
      "        [6.8000, 3.0000, 5.5000, 2.1000],\n",
      "        [6.8000, 2.8000, 4.8000, 1.4000],\n",
      "        [5.7000, 2.5000, 5.0000, 2.0000],\n",
      "        [6.2000, 2.2000, 4.5000, 1.5000],\n",
      "        [5.7000, 4.4000, 1.5000, 0.4000],\n",
      "        [5.0000, 3.5000, 1.6000, 0.6000],\n",
      "        [6.7000, 3.3000, 5.7000, 2.5000],\n",
      "        [4.4000, 2.9000, 1.4000, 0.2000],\n",
      "        [5.6000, 2.7000, 4.2000, 1.3000],\n",
      "        [6.6000, 3.0000, 4.4000, 1.4000],\n",
      "        [5.9000, 3.0000, 5.1000, 1.8000],\n",
      "        [5.4000, 3.9000, 1.7000, 0.4000],\n",
      "        [6.7000, 3.1000, 5.6000, 2.4000],\n",
      "        [4.9000, 3.0000, 1.4000, 0.2000],\n",
      "        [4.6000, 3.4000, 1.4000, 0.3000],\n",
      "        [5.7000, 2.8000, 4.1000, 1.3000]]), tensor([0, 2, 0, 1, 2, 1, 1, 2, 2, 0, 2, 0, 2, 2, 1, 1, 2, 1, 2, 1, 0, 0, 2, 0,\n",
      "        1, 1, 2, 0, 2, 0, 0, 1])]\n",
      "[tensor([[6.7000, 3.1000, 4.4000, 1.4000],\n",
      "        [6.5000, 3.0000, 5.5000, 1.8000],\n",
      "        [6.4000, 2.7000, 5.3000, 1.9000],\n",
      "        [4.8000, 3.4000, 1.6000, 0.2000],\n",
      "        [5.2000, 3.4000, 1.4000, 0.2000],\n",
      "        [5.4000, 3.4000, 1.7000, 0.2000],\n",
      "        [4.8000, 3.0000, 1.4000, 0.1000],\n",
      "        [6.5000, 3.0000, 5.2000, 2.0000],\n",
      "        [6.5000, 2.8000, 4.6000, 1.5000],\n",
      "        [7.1000, 3.0000, 5.9000, 2.1000],\n",
      "        [4.9000, 3.1000, 1.5000, 0.2000],\n",
      "        [5.4000, 3.9000, 1.3000, 0.4000],\n",
      "        [6.5000, 3.0000, 5.8000, 2.2000],\n",
      "        [4.9000, 2.5000, 4.5000, 1.7000],\n",
      "        [6.1000, 2.8000, 4.7000, 1.2000],\n",
      "        [4.9000, 3.1000, 1.5000, 0.1000],\n",
      "        [5.0000, 3.0000, 1.6000, 0.2000],\n",
      "        [4.9000, 2.4000, 3.3000, 1.0000],\n",
      "        [6.9000, 3.1000, 5.1000, 2.3000],\n",
      "        [5.5000, 2.3000, 4.0000, 1.3000],\n",
      "        [5.6000, 3.0000, 4.5000, 1.5000],\n",
      "        [6.3000, 3.3000, 4.7000, 1.6000],\n",
      "        [5.6000, 2.8000, 4.9000, 2.0000],\n",
      "        [5.4000, 3.0000, 4.5000, 1.5000],\n",
      "        [5.7000, 3.8000, 1.7000, 0.3000],\n",
      "        [4.9000, 3.6000, 1.4000, 0.1000],\n",
      "        [6.0000, 2.2000, 4.0000, 1.0000],\n",
      "        [6.1000, 2.8000, 4.0000, 1.3000]]), tensor([1, 2, 2, 0, 0, 0, 0, 2, 1, 2, 0, 0, 2, 2, 1, 0, 0, 1, 2, 1, 1, 1, 2, 1,\n",
      "        0, 0, 1, 1])]\n"
     ]
    }
   ],
   "execution_count": 7
  },
  {
   "cell_type": "markdown",
   "metadata": {
    "id": "B7yYkPUtxcaJ"
   },
   "source": [
    "## Ewaluacja modelu - metryki\n",
    "\n",
    "***Zaimplementuj*** funkcję `validate`, które dla danego modelu, funkcji straty i loadera zwróci średnią wartość funkcji straty oraz dokładność (ang. *accuracy*) dla danych z `dataloader`."
   ]
  },
  {
   "cell_type": "code",
   "metadata": {
    "id": "5iCngT3Ctn-e",
    "ExecuteTime": {
     "end_time": "2025-03-27T10:19:22.050686Z",
     "start_time": "2025-03-27T10:19:22.043037Z"
    }
   },
   "source": [
    "def count_correct(\n",
    "        y_pred: torch.Tensor, y_true: torch.Tensor\n",
    ") -> torch.Tensor:\n",
    "    preds = torch.argmax(y_pred, dim=1)\n",
    "    return (preds == y_true).float().sum()\n",
    "\n",
    "\n",
    "def validate(\n",
    "        model: nn.Module,\n",
    "        loss_fn: torch.nn.CrossEntropyLoss,\n",
    "        dataloader: DataLoader\n",
    ") -> Tuple[torch.Tensor, torch.Tensor]:\n",
    "    loss = 0\n",
    "    correct = 0\n",
    "    all = 0\n",
    "    for X_batch, y_batch in dataloader:\n",
    "        y_pred = model(X_batch)\n",
    "        all += len(y_pred)\n",
    "        loss += loss_fn(y_pred, y_batch).sum()\n",
    "        correct += count_correct(y_pred, y_batch)\n",
    "    return loss / all, correct / all\n"
   ],
   "outputs": [],
   "execution_count": 8
  },
  {
   "cell_type": "markdown",
   "metadata": {
    "id": "sZgBH3lxF2l5"
   },
   "source": [
    "***Przetestuj*** swoją implementację"
   ]
  },
  {
   "cell_type": "code",
   "metadata": {
    "id": "X0W8GaaNvoFC",
    "ExecuteTime": {
     "end_time": "2025-03-27T08:13:14.685412Z",
     "start_time": "2025-03-27T08:13:14.674493Z"
    }
   },
   "source": [
    "loss_fn = torch.nn.CrossEntropyLoss()\n",
    "val_train, acc_train = validate(model, loss_fn, test_loader)\n",
    "print(val_train, acc_train)"
   ],
   "outputs": [
    {
     "name": "stdout",
     "output_type": "stream",
     "text": [
      "tensor(0.0675, grad_fn=<DivBackward0>) tensor(0.3333)\n"
     ]
    }
   ],
   "execution_count": 9
  },
  {
   "cell_type": "markdown",
   "metadata": {
    "id": "l6Me2ep7HFC-"
   },
   "source": [
    "## Uczenie\n",
    "\n",
    "Przed uzupełnieniem poniżej implementacji została nam jeszcze jedna istotna kwestia do poruszenia. Otóż dot tej pory aktualizację parametrów dokonywaliśmy wg prostej formuły - mnożyliśmy gradienty przez współczynnik uczenia (ang. *learning rate*) i odejmowalismy od parametrów. Jednakże do uczenia sieci neuronowych sotsujemy często optymalizatory (ang. *optimiser*), które mogą implementować różne podejścia do uakualiniania parameterów modelu. Wykorzystamy tutaj algorytm **Adam** (ang. *adaptive moment estimation*), który dostosowuje współczynnik uczenia do poszczególnych parametrów i jest często optimizatorem pierwszego wyboru.\n",
    "\n",
    "***Uzupełnij i przetestuj*** poniższą implementację uczenia modelu. Porównaj jej skuteczność z tą, którą zaimplementowałeś(aś) na laboratorium 2."
   ]
  },
  {
   "metadata": {
    "ExecuteTime": {
     "end_time": "2025-03-27T10:45:49.124940Z",
     "start_time": "2025-03-27T10:45:49.119640Z"
    }
   },
   "cell_type": "code",
   "source": [
    "def get_final_metrics(*metrics):\n",
    "    res = []\n",
    "    for metric in metrics:\n",
    "        res.append(metric[-1])\n",
    "    return res"
   ],
   "outputs": [],
   "execution_count": 21
  },
  {
   "metadata": {
    "id": "Enlx7Cr33frK",
    "ExecuteTime": {
     "end_time": "2025-03-27T10:44:37.283237Z",
     "start_time": "2025-03-27T10:44:36.498397Z"
    }
   },
   "cell_type": "code",
   "source": [
    "def fit(\n",
    "        model: nn.Module, optimiser: optim.Optimizer,\n",
    "        loss_fn: torch.nn.CrossEntropyLoss, train_dl: DataLoader,\n",
    "        val_dl: DataLoader, epochs: int,\n",
    "        print_metrics: str = True\n",
    ") -> tuple[list[float], list[float], list[float], list[float]]:\n",
    "    losses_test = []\n",
    "    losses_train = []\n",
    "    accuracies_test = []\n",
    "    accuracies_train = []\n",
    "    for epoch in range(epochs):\n",
    "        model.train()  # Przełączenie na tryb uczenia modelu - istotne dla takich warstw jak Dropuot czy BatchNorm\n",
    "        for X_batch, y_batch in train_dl:\n",
    "            y_pred = model(X_batch)  # Uzyskanie pseudoprawdopodobieństw dla próbek z minibatcha\n",
    "            loss = loss_fn(y_pred, y_batch)  # Policzenie funkcji straty\n",
    "\n",
    "            loss.backward()  # Wsteczna propagacja z wyniku funkcji straty - policzenie gradientów i zapisanie ich w tensorach (parametrach)\n",
    "            optimiser.step()  # Aktualizacja parametrów modelu przez optymalizator na podstawie gradientów zapisanych w tensorach (parametrach) oraz lr\n",
    "            optimiser.zero_grad()  # Wyzerowanie gradientów w modelu, alternatywnie można wywołać model.zero_grad()\n",
    "\n",
    "            loss_val, acc_val = validate(model, loss_fn, val_dl)\n",
    "            loss_train, acc_train = validate(model, loss_fn, train_dl)\n",
    "\n",
    "            accuracies_test.append(acc_val.detach().numpy())\n",
    "            accuracies_train.append(acc_train.detach().numpy())\n",
    "            losses_test.append(loss_val.detach().numpy())\n",
    "            losses_train.append(loss_train.detach().numpy())\n",
    "\n",
    "        if print_metrics:\n",
    "            model.eval()  # Przełączenie na tryb ewaluacji modelu - istotne dla takich warstw jak Dropuot czy BatchNorm\n",
    "            with torch.no_grad():  # Wstrzymujemy przeliczanie i śledzenie gradientów dla tensorów - w procesie ewaluacji modelu nie chcemy zmian w gradientach\n",
    "                train_loss, train_acc = validate(model, loss_fn, train_dl)\n",
    "                val_loss, val_acc = validate(model, loss_fn, val_dl)\n",
    "                print(\n",
    "                    f\"Epoch {epoch}: \"\n",
    "                    f\"train loss = {train_loss:.3f} (acc: {train_acc:.3f}), \"\n",
    "                    f\"validation loss = {val_loss:.3f} (acc: {val_acc:.3f})\"\n",
    "                )\n",
    "\n",
    "    model.eval()  # Przełączenie na tryb ewaluacji modelu - istotne dla takich warstw jak Dropuot czy BatchNorm\n",
    "    return accuracies_train, accuracies_test, losses_train, losses_test\n",
    "\n",
    "\n",
    "train_dl, val_dl, test_dl = to_dataloader(\n",
    "    X_train=X_train,\n",
    "    y_train=y_train,\n",
    "    X_test=X_test,\n",
    "    y_test=y_test,\n",
    "    batch_size=32\n",
    ")\n",
    "\n",
    "perceptron = Perceptron()\n",
    "optimiser = optim.Adam(perceptron.parameters(), lr=0.001)\n",
    "loss_fn = torch.nn.CrossEntropyLoss()\n",
    "accuracies_train, accuracies_test, losses_train, losses_test = fit(\n",
    "    model=perceptron, optimiser=optimiser, loss_fn=loss_fn,\n",
    "    train_dl=train_dl, val_dl=test_dl, epochs=50\n",
    ")\n",
    "\n",
    "\n",
    "fig, (ax1, ax2) = plt.subplots(1, 2, figsize=(10, 3))\n",
    "ax1.plot(losses_train, label=\"loss-training\")\n",
    "ax1.plot(losses_test, label=\"loss-test\")\n",
    "ax1.legend()\n",
    "ax2.plot(accuracies_train, label=\"accuracy-training\")\n",
    "ax2.plot(accuracies_test, label=\"accuracy-test\")\n",
    "ax2.legend()\n",
    "plt.show()"
   ],
   "outputs": [
    {
     "name": "stdout",
     "output_type": "stream",
     "text": [
      "Epoch 0: train loss = 0.098 (acc: 0.333), validation loss = 0.070 (acc: 0.333)\n",
      "Epoch 1: train loss = 0.098 (acc: 0.333), validation loss = 0.069 (acc: 0.333)\n",
      "Epoch 2: train loss = 0.094 (acc: 0.333), validation loss = 0.068 (acc: 0.333)\n",
      "Epoch 3: train loss = 0.095 (acc: 0.333), validation loss = 0.067 (acc: 0.333)\n",
      "Epoch 4: train loss = 0.090 (acc: 0.333), validation loss = 0.066 (acc: 0.333)\n",
      "Epoch 5: train loss = 0.098 (acc: 0.333), validation loss = 0.065 (acc: 0.333)\n",
      "Epoch 6: train loss = 0.092 (acc: 0.333), validation loss = 0.064 (acc: 0.333)\n",
      "Epoch 7: train loss = 0.090 (acc: 0.333), validation loss = 0.063 (acc: 0.333)\n",
      "Epoch 8: train loss = 0.091 (acc: 0.333), validation loss = 0.062 (acc: 0.333)\n",
      "Epoch 9: train loss = 0.079 (acc: 0.333), validation loss = 0.061 (acc: 0.333)\n",
      "Epoch 10: train loss = 0.089 (acc: 0.333), validation loss = 0.060 (acc: 0.333)\n",
      "Epoch 11: train loss = 0.082 (acc: 0.333), validation loss = 0.059 (acc: 0.333)\n",
      "Epoch 12: train loss = 0.078 (acc: 0.333), validation loss = 0.058 (acc: 0.333)\n",
      "Epoch 13: train loss = 0.078 (acc: 0.333), validation loss = 0.057 (acc: 0.333)\n",
      "Epoch 14: train loss = 0.076 (acc: 0.333), validation loss = 0.056 (acc: 0.333)\n",
      "Epoch 15: train loss = 0.082 (acc: 0.333), validation loss = 0.055 (acc: 0.333)\n",
      "Epoch 16: train loss = 0.081 (acc: 0.333), validation loss = 0.054 (acc: 0.333)\n",
      "Epoch 17: train loss = 0.074 (acc: 0.333), validation loss = 0.053 (acc: 0.333)\n",
      "Epoch 18: train loss = 0.073 (acc: 0.333), validation loss = 0.053 (acc: 0.333)\n",
      "Epoch 19: train loss = 0.073 (acc: 0.333), validation loss = 0.052 (acc: 0.333)\n",
      "Epoch 20: train loss = 0.071 (acc: 0.333), validation loss = 0.051 (acc: 0.333)\n",
      "Epoch 21: train loss = 0.072 (acc: 0.333), validation loss = 0.050 (acc: 0.333)\n",
      "Epoch 22: train loss = 0.072 (acc: 0.333), validation loss = 0.050 (acc: 0.333)\n",
      "Epoch 23: train loss = 0.068 (acc: 0.333), validation loss = 0.049 (acc: 0.333)\n",
      "Epoch 24: train loss = 0.069 (acc: 0.333), validation loss = 0.048 (acc: 0.333)\n",
      "Epoch 25: train loss = 0.072 (acc: 0.333), validation loss = 0.048 (acc: 0.333)\n",
      "Epoch 26: train loss = 0.065 (acc: 0.333), validation loss = 0.047 (acc: 0.333)\n",
      "Epoch 27: train loss = 0.065 (acc: 0.333), validation loss = 0.046 (acc: 0.333)\n",
      "Epoch 28: train loss = 0.067 (acc: 0.333), validation loss = 0.046 (acc: 0.333)\n",
      "Epoch 29: train loss = 0.063 (acc: 0.333), validation loss = 0.045 (acc: 0.333)\n",
      "Epoch 30: train loss = 0.067 (acc: 0.333), validation loss = 0.045 (acc: 0.333)\n",
      "Epoch 31: train loss = 0.062 (acc: 0.333), validation loss = 0.044 (acc: 0.333)\n",
      "Epoch 32: train loss = 0.063 (acc: 0.333), validation loss = 0.044 (acc: 0.333)\n",
      "Epoch 33: train loss = 0.058 (acc: 0.333), validation loss = 0.043 (acc: 0.333)\n",
      "Epoch 34: train loss = 0.057 (acc: 0.333), validation loss = 0.043 (acc: 0.333)\n",
      "Epoch 35: train loss = 0.059 (acc: 0.333), validation loss = 0.042 (acc: 0.333)\n",
      "Epoch 36: train loss = 0.058 (acc: 0.333), validation loss = 0.042 (acc: 0.333)\n",
      "Epoch 37: train loss = 0.063 (acc: 0.333), validation loss = 0.042 (acc: 0.333)\n",
      "Epoch 38: train loss = 0.060 (acc: 0.333), validation loss = 0.041 (acc: 0.333)\n",
      "Epoch 39: train loss = 0.056 (acc: 0.333), validation loss = 0.041 (acc: 0.333)\n",
      "Epoch 40: train loss = 0.061 (acc: 0.311), validation loss = 0.040 (acc: 0.333)\n",
      "Epoch 41: train loss = 0.055 (acc: 0.311), validation loss = 0.040 (acc: 0.333)\n",
      "Epoch 42: train loss = 0.057 (acc: 0.311), validation loss = 0.040 (acc: 0.333)\n",
      "Epoch 43: train loss = 0.058 (acc: 0.311), validation loss = 0.040 (acc: 0.333)\n",
      "Epoch 44: train loss = 0.057 (acc: 0.311), validation loss = 0.039 (acc: 0.333)\n",
      "Epoch 45: train loss = 0.056 (acc: 0.311), validation loss = 0.039 (acc: 0.333)\n",
      "Epoch 46: train loss = 0.055 (acc: 0.311), validation loss = 0.039 (acc: 0.333)\n",
      "Epoch 47: train loss = 0.054 (acc: 0.289), validation loss = 0.038 (acc: 0.300)\n",
      "Epoch 48: train loss = 0.055 (acc: 0.267), validation loss = 0.038 (acc: 0.283)\n",
      "Epoch 49: train loss = 0.053 (acc: 0.267), validation loss = 0.038 (acc: 0.267)\n"
     ]
    },
    {
     "data": {
      "text/plain": [
       "<Figure size 1000x300 with 2 Axes>"
      ],
      "image/png": "[encoded data removed]"
     },
     "metadata": {},
     "output_type": "display_data"
    }
   ],
   "execution_count": 19
  },
  {
   "metadata": {
    "ExecuteTime": {
     "end_time": "2025-03-27T10:50:43.927560Z",
     "start_time": "2025-03-27T10:49:08.293915Z"
    }
   },
   "cell_type": "code",
   "source": [
    "results = []\n",
    "for lr, epochs in it.product(np.logspace(-5, 1, 25), range(10, 100 + 10, 10)):\n",
    "    print(f\"lr = {lr}, epochs = {epochs}\")\n",
    "    train_dl, val_dl, test_dl = to_dataloader(\n",
    "        X_train=X_train,\n",
    "        y_train=y_train,\n",
    "        X_test=X_test,\n",
    "        y_test=y_test,\n",
    "        batch_size=32\n",
    "    )\n",
    "\n",
    "    perceptron = Perceptron()\n",
    "    optimiser = optim.Adam(perceptron.parameters(), lr=lr)\n",
    "    loss_fn = torch.nn.CrossEntropyLoss()\n",
    "    accuracies_train, accuracies_test, losses_train, losses_test = fit(\n",
    "        model=perceptron, optimiser=optimiser, loss_fn=loss_fn,\n",
    "        train_dl=train_dl, val_dl=val_dl, epochs=epochs,\n",
    "        print_metrics=False\n",
    "    )\n",
    "    acc_train, acc_test, loss_train, loss_test = get_final_metrics(accuracies_train, accuracies_test, losses_train, losses_test)\n",
    "    results.append((lr, epochs, loss_train, loss_test, acc_train, acc_test))\n",
    "\n",
    "best = min(results, key=lambda x: x[3])\n",
    "print(best[0], best[1])\n",
    "\n"
   ],
   "outputs": [
    {
     "name": "stdout",
     "output_type": "stream",
     "text": [
      "lr = 1e-05, epochs = 10\n",
      "lr = 1e-05, epochs = 20\n",
      "lr = 1e-05, epochs = 30\n",
      "lr = 1e-05, epochs = 40\n",
      "lr = 1e-05, epochs = 50\n",
      "lr = 1e-05, epochs = 60\n",
      "lr = 1e-05, epochs = 70\n",
      "lr = 1e-05, epochs = 80\n",
      "lr = 1e-05, epochs = 90\n",
      "lr = 1e-05, epochs = 100\n",
      "lr = 1.778279410038923e-05, epochs = 10\n",
      "lr = 1.778279410038923e-05, epochs = 20\n",
      "lr = 1.778279410038923e-05, epochs = 30\n",
      "lr = 1.778279410038923e-05, epochs = 40\n",
      "lr = 1.778279410038923e-05, epochs = 50\n",
      "lr = 1.778279410038923e-05, epochs = 60\n",
      "lr = 1.778279410038923e-05, epochs = 70\n",
      "lr = 1.778279410038923e-05, epochs = 80\n",
      "lr = 1.778279410038923e-05, epochs = 90\n",
      "lr = 1.778279410038923e-05, epochs = 100\n",
      "lr = 3.1622776601683795e-05, epochs = 10\n",
      "lr = 3.1622776601683795e-05, epochs = 20\n",
      "lr = 3.1622776601683795e-05, epochs = 30\n",
      "lr = 3.1622776601683795e-05, epochs = 40\n",
      "lr = 3.1622776601683795e-05, epochs = 50\n",
      "lr = 3.1622776601683795e-05, epochs = 60\n",
      "lr = 3.1622776601683795e-05, epochs = 70\n",
      "lr = 3.1622776601683795e-05, epochs = 80\n",
      "lr = 3.1622776601683795e-05, epochs = 90\n",
      "lr = 3.1622776601683795e-05, epochs = 100\n",
      "lr = 5.623413251903491e-05, epochs = 10\n",
      "lr = 5.623413251903491e-05, epochs = 20\n",
      "lr = 5.623413251903491e-05, epochs = 30\n",
      "lr = 5.623413251903491e-05, epochs = 40\n",
      "lr = 5.623413251903491e-05, epochs = 50\n",
      "lr = 5.623413251903491e-05, epochs = 60\n",
      "lr = 5.623413251903491e-05, epochs = 70\n",
      "lr = 5.623413251903491e-05, epochs = 80\n",
      "lr = 5.623413251903491e-05, epochs = 90\n",
      "lr = 5.623413251903491e-05, epochs = 100\n",
      "lr = 0.0001, epochs = 10\n",
      "lr = 0.0001, epochs = 20\n",
      "lr = 0.0001, epochs = 30\n",
      "lr = 0.0001, epochs = 40\n",
      "lr = 0.0001, epochs = 50\n",
      "lr = 0.0001, epochs = 60\n",
      "lr = 0.0001, epochs = 70\n",
      "lr = 0.0001, epochs = 80\n",
      "lr = 0.0001, epochs = 90\n",
      "lr = 0.0001, epochs = 100\n",
      "lr = 0.00017782794100389227, epochs = 10\n",
      "lr = 0.00017782794100389227, epochs = 20\n",
      "lr = 0.00017782794100389227, epochs = 30\n",
      "lr = 0.00017782794100389227, epochs = 40\n",
      "lr = 0.00017782794100389227, epochs = 50\n",
      "lr = 0.00017782794100389227, epochs = 60\n",
      "lr = 0.00017782794100389227, epochs = 70\n",
      "lr = 0.00017782794100389227, epochs = 80\n",
      "lr = 0.00017782794100389227, epochs = 90\n",
      "lr = 0.00017782794100389227, epochs = 100\n",
      "lr = 0.00031622776601683794, epochs = 10\n",
      "lr = 0.00031622776601683794, epochs = 20\n",
      "lr = 0.00031622776601683794, epochs = 30\n",
      "lr = 0.00031622776601683794, epochs = 40\n",
      "lr = 0.00031622776601683794, epochs = 50\n",
      "lr = 0.00031622776601683794, epochs = 60\n",
      "lr = 0.00031622776601683794, epochs = 70\n",
      "lr = 0.00031622776601683794, epochs = 80\n",
      "lr = 0.00031622776601683794, epochs = 90\n",
      "lr = 0.00031622776601683794, epochs = 100\n",
      "lr = 0.0005623413251903491, epochs = 10\n",
      "lr = 0.0005623413251903491, epochs = 20\n",
      "lr = 0.0005623413251903491, epochs = 30\n",
      "lr = 0.0005623413251903491, epochs = 40\n",
      "lr = 0.0005623413251903491, epochs = 50\n",
      "lr = 0.0005623413251903491, epochs = 60\n",
      "lr = 0.0005623413251903491, epochs = 70\n",
      "lr = 0.0005623413251903491, epochs = 80\n",
      "lr = 0.0005623413251903491, epochs = 90\n",
      "lr = 0.0005623413251903491, epochs = 100\n",
      "lr = 0.001, epochs = 10\n",
      "lr = 0.001, epochs = 20\n",
      "lr = 0.001, epochs = 30\n",
      "lr = 0.001, epochs = 40\n",
      "lr = 0.001, epochs = 50\n",
      "lr = 0.001, epochs = 60\n",
      "lr = 0.001, epochs = 70\n",
      "lr = 0.001, epochs = 80\n",
      "lr = 0.001, epochs = 90\n",
      "lr = 0.001, epochs = 100\n",
      "lr = 0.0017782794100389228, epochs = 10\n",
      "lr = 0.0017782794100389228, epochs = 20\n",
      "lr = 0.0017782794100389228, epochs = 30\n",
      "lr = 0.0017782794100389228, epochs = 40\n",
      "lr = 0.0017782794100389228, epochs = 50\n",
      "lr = 0.0017782794100389228, epochs = 60\n",
      "lr = 0.0017782794100389228, epochs = 70\n",
      "lr = 0.0017782794100389228, epochs = 80\n",
      "lr = 0.0017782794100389228, epochs = 90\n",
      "lr = 0.0017782794100389228, epochs = 100\n",
      "lr = 0.0031622776601683794, epochs = 10\n",
      "lr = 0.0031622776601683794, epochs = 20\n",
      "lr = 0.0031622776601683794, epochs = 30\n",
      "lr = 0.0031622776601683794, epochs = 40\n",
      "lr = 0.0031622776601683794, epochs = 50\n",
      "lr = 0.0031622776601683794, epochs = 60\n",
      "lr = 0.0031622776601683794, epochs = 70\n",
      "lr = 0.0031622776601683794, epochs = 80\n",
      "lr = 0.0031622776601683794, epochs = 90\n",
      "lr = 0.0031622776601683794, epochs = 100\n",
      "lr = 0.005623413251903491, epochs = 10\n",
      "lr = 0.005623413251903491, epochs = 20\n",
      "lr = 0.005623413251903491, epochs = 30\n",
      "lr = 0.005623413251903491, epochs = 40\n",
      "lr = 0.005623413251903491, epochs = 50\n",
      "lr = 0.005623413251903491, epochs = 60\n",
      "lr = 0.005623413251903491, epochs = 70\n",
      "lr = 0.005623413251903491, epochs = 80\n",
      "lr = 0.005623413251903491, epochs = 90\n",
      "lr = 0.005623413251903491, epochs = 100\n",
      "lr = 0.01, epochs = 10\n",
      "lr = 0.01, epochs = 20\n",
      "lr = 0.01, epochs = 30\n",
      "lr = 0.01, epochs = 40\n",
      "lr = 0.01, epochs = 50\n",
      "lr = 0.01, epochs = 60\n",
      "lr = 0.01, epochs = 70\n",
      "lr = 0.01, epochs = 80\n",
      "lr = 0.01, epochs = 90\n",
      "lr = 0.01, epochs = 100\n",
      "lr = 0.01778279410038923, epochs = 10\n",
      "lr = 0.01778279410038923, epochs = 20\n",
      "lr = 0.01778279410038923, epochs = 30\n",
      "lr = 0.01778279410038923, epochs = 40\n",
      "lr = 0.01778279410038923, epochs = 50\n",
      "lr = 0.01778279410038923, epochs = 60\n",
      "lr = 0.01778279410038923, epochs = 70\n",
      "lr = 0.01778279410038923, epochs = 80\n",
      "lr = 0.01778279410038923, epochs = 90\n",
      "lr = 0.01778279410038923, epochs = 100\n",
      "lr = 0.03162277660168379, epochs = 10\n",
      "lr = 0.03162277660168379, epochs = 20\n",
      "lr = 0.03162277660168379, epochs = 30\n",
      "lr = 0.03162277660168379, epochs = 40\n",
      "lr = 0.03162277660168379, epochs = 50\n",
      "lr = 0.03162277660168379, epochs = 60\n",
      "lr = 0.03162277660168379, epochs = 70\n",
      "lr = 0.03162277660168379, epochs = 80\n",
      "lr = 0.03162277660168379, epochs = 90\n",
      "lr = 0.03162277660168379, epochs = 100\n",
      "lr = 0.05623413251903491, epochs = 10\n",
      "lr = 0.05623413251903491, epochs = 20\n",
      "lr = 0.05623413251903491, epochs = 30\n",
      "lr = 0.05623413251903491, epochs = 40\n",
      "lr = 0.05623413251903491, epochs = 50\n",
      "lr = 0.05623413251903491, epochs = 60\n",
      "lr = 0.05623413251903491, epochs = 70\n",
      "lr = 0.05623413251903491, epochs = 80\n",
      "lr = 0.05623413251903491, epochs = 90\n",
      "lr = 0.05623413251903491, epochs = 100\n",
      "lr = 0.1, epochs = 10\n",
      "lr = 0.1, epochs = 20\n",
      "lr = 0.1, epochs = 30\n",
      "lr = 0.1, epochs = 40\n",
      "lr = 0.1, epochs = 50\n",
      "lr = 0.1, epochs = 60\n",
      "lr = 0.1, epochs = 70\n",
      "lr = 0.1, epochs = 80\n",
      "lr = 0.1, epochs = 90\n",
      "lr = 0.1, epochs = 100\n",
      "lr = 0.1778279410038923, epochs = 10\n",
      "lr = 0.1778279410038923, epochs = 20\n",
      "lr = 0.1778279410038923, epochs = 30\n",
      "lr = 0.1778279410038923, epochs = 40\n",
      "lr = 0.1778279410038923, epochs = 50\n",
      "lr = 0.1778279410038923, epochs = 60\n",
      "lr = 0.1778279410038923, epochs = 70\n",
      "lr = 0.1778279410038923, epochs = 80\n",
      "lr = 0.1778279410038923, epochs = 90\n",
      "lr = 0.1778279410038923, epochs = 100\n",
      "lr = 0.31622776601683794, epochs = 10\n",
      "lr = 0.31622776601683794, epochs = 20\n",
      "lr = 0.31622776601683794, epochs = 30\n",
      "lr = 0.31622776601683794, epochs = 40\n",
      "lr = 0.31622776601683794, epochs = 50\n",
      "lr = 0.31622776601683794, epochs = 60\n",
      "lr = 0.31622776601683794, epochs = 70\n",
      "lr = 0.31622776601683794, epochs = 80\n",
      "lr = 0.31622776601683794, epochs = 90\n",
      "lr = 0.31622776601683794, epochs = 100\n",
      "lr = 0.5623413251903491, epochs = 10\n",
      "lr = 0.5623413251903491, epochs = 20\n",
      "lr = 0.5623413251903491, epochs = 30\n",
      "lr = 0.5623413251903491, epochs = 40\n",
      "lr = 0.5623413251903491, epochs = 50\n",
      "lr = 0.5623413251903491, epochs = 60\n",
      "lr = 0.5623413251903491, epochs = 70\n",
      "lr = 0.5623413251903491, epochs = 80\n",
      "lr = 0.5623413251903491, epochs = 90\n",
      "lr = 0.5623413251903491, epochs = 100\n",
      "lr = 1.0, epochs = 10\n",
      "lr = 1.0, epochs = 20\n",
      "lr = 1.0, epochs = 30\n",
      "lr = 1.0, epochs = 40\n",
      "lr = 1.0, epochs = 50\n",
      "lr = 1.0, epochs = 60\n",
      "lr = 1.0, epochs = 70\n",
      "lr = 1.0, epochs = 80\n",
      "lr = 1.0, epochs = 90\n",
      "lr = 1.0, epochs = 100\n",
      "lr = 1.7782794100389228, epochs = 10\n",
      "lr = 1.7782794100389228, epochs = 20\n",
      "lr = 1.7782794100389228, epochs = 30\n",
      "lr = 1.7782794100389228, epochs = 40\n",
      "lr = 1.7782794100389228, epochs = 50\n",
      "lr = 1.7782794100389228, epochs = 60\n",
      "lr = 1.7782794100389228, epochs = 70\n",
      "lr = 1.7782794100389228, epochs = 80\n",
      "lr = 1.7782794100389228, epochs = 90\n",
      "lr = 1.7782794100389228, epochs = 100\n",
      "lr = 3.1622776601683795, epochs = 10\n",
      "lr = 3.1622776601683795, epochs = 20\n",
      "lr = 3.1622776601683795, epochs = 30\n",
      "lr = 3.1622776601683795, epochs = 40\n",
      "lr = 3.1622776601683795, epochs = 50\n",
      "lr = 3.1622776601683795, epochs = 60\n",
      "lr = 3.1622776601683795, epochs = 70\n",
      "lr = 3.1622776601683795, epochs = 80\n",
      "lr = 3.1622776601683795, epochs = 90\n",
      "lr = 3.1622776601683795, epochs = 100\n",
      "lr = 5.623413251903491, epochs = 10\n",
      "lr = 5.623413251903491, epochs = 20\n",
      "lr = 5.623413251903491, epochs = 30\n",
      "lr = 5.623413251903491, epochs = 40\n",
      "lr = 5.623413251903491, epochs = 50\n",
      "lr = 5.623413251903491, epochs = 60\n",
      "lr = 5.623413251903491, epochs = 70\n",
      "lr = 5.623413251903491, epochs = 80\n",
      "lr = 5.623413251903491, epochs = 90\n",
      "lr = 5.623413251903491, epochs = 100\n",
      "lr = 10.0, epochs = 10\n",
      "lr = 10.0, epochs = 20\n",
      "lr = 10.0, epochs = 30\n",
      "lr = 10.0, epochs = 40\n",
      "lr = 10.0, epochs = 50\n",
      "lr = 10.0, epochs = 60\n",
      "lr = 10.0, epochs = 70\n",
      "lr = 10.0, epochs = 80\n",
      "lr = 10.0, epochs = 90\n",
      "lr = 10.0, epochs = 100\n",
      "1.7782794100389228 60\n"
     ]
    }
   ],
   "execution_count": 25
  },
  {
   "metadata": {
    "ExecuteTime": {
     "end_time": "2025-03-27T10:52:42.402143Z",
     "start_time": "2025-03-27T10:52:41.400164Z"
    }
   },
   "cell_type": "code",
   "source": [
    "lr=1.778\n",
    "epochs=60\n",
    "\n",
    "train_dl, val_dl, test_dl = to_dataloader(\n",
    "        X_train=X_train,\n",
    "        y_train=y_train,\n",
    "        X_test=X_test,\n",
    "        y_test=y_test,\n",
    "        batch_size=32\n",
    ")\n",
    "\n",
    "perceptron = Perceptron()\n",
    "optimiser = optim.Adam(perceptron.parameters(), lr=lr)\n",
    "loss_fn = torch.nn.CrossEntropyLoss()\n",
    "accuracies_train, accuracies_test, losses_train, losses_test = fit(\n",
    "    model=perceptron, optimiser=optimiser, loss_fn=loss_fn,\n",
    "    train_dl=train_dl, val_dl=val_dl, epochs=epochs,\n",
    "    print_metrics=False\n",
    ")\n",
    "\n",
    "fig, (ax1, ax2) = plt.subplots(1, 2, figsize=(10, 3))\n",
    "ax1.plot(losses_train, label=\"loss-training\")\n",
    "ax1.plot(losses_test, label=\"loss-test\")\n",
    "ax1.legend()\n",
    "ax2.plot(accuracies_train, label=\"accuracy-training\")\n",
    "ax2.plot(accuracies_test, label=\"accuracy-test\")\n",
    "ax2.legend()\n",
    "plt.show()"
   ],
   "outputs": [
    {
     "data": {
      "text/plain": [
       "<Figure size 1000x300 with 2 Axes>"
      ],
      "image/png": "[encoded data removed]"
     },
     "metadata": {},
     "output_type": "display_data"
    }
   ],
   "execution_count": 26
  },
  {
   "cell_type": "markdown",
   "metadata": {
    "id": "hVkTsruIBaBa"
   },
   "source": [
    "***Uzupełnij*** funkcję `fit`, aby ta mogła logować metryki (*loss*, *accuracy*) per epokę. Po zebraniu historii uczenia ***przedstaw*** następujące wykresy:\n",
    "- Wykres wartości funkcji kosztu w zależności od epoki uczenia dla zbioru uczącego i testowego\n",
    "- Wykres wartości metryki *accuracy* w zależności od epoki uczenia dla zbioru uczącego i testowego \n",
    "\n",
    "Metryki dla obu zbiorów przedstaw na jednym wykresie jako serie. ***Uzupełnij*** etykiety osi i tytuły wykresów."
   ]
  },
  {
   "cell_type": "markdown",
   "metadata": {
    "id": "E_eBwlwF6siY"
   },
   "source": [
    "***Popraw*** model, tak aby otrzymać dokładność na zbiorze testowym wynoszącą co najmniej 90%. W tym celu dobierz odpowiedni współczynnik uczenia i liczbę epok. \n",
    "Do porównania badanych hiperparametrów użyj zbioru walidacyjnego. Podziel zbiór testowy na dwie równe części, jeden który będzie służyć do walidacji hiperparametrów, a drugi, który będzie służył do ewaluacji znalezionej najlepszej pary hiperparametrów. W tym celu możesz wykorzystać funkcję `torch.utils.data.random_split` z ustawionym parametrem `generator=torch.Generator().manual_seed(1)`. Przedstaw równiez wykresy o których mowa punkcie powyżej tym razem z uwzględniem trzech zbiorów (uczącego, walidacyjnego i testowego)"
   ]
  }
 ]
}
